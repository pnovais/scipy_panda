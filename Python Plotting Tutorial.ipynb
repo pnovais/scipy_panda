{
 "cells": [
  {
   "cell_type": "markdown",
   "metadata": {},
   "source": [
    "Python Plotting Tutorial\n",
    "=======\n",
    "\n",
    "What's covered\n",
    "-----\n",
    "\n",
    "  * Basic plotting using the matplotlib.pyplot package\n",
    "  * Installation and invocation tips\n",
    "  * Intro to styling and customization\n",
    "  * Pointers to other packages\n"
   ]
  },
  {
   "cell_type": "markdown",
   "metadata": {},
   "source": [
    "For the truly impatient\n",
    "=========\n",
    "\n",
    "Here is a very quick \"hello world\".\n",
    "\n",
    "First -- import matplotlib.pyplot (see further down for the *safer* way to do this) and tell ipython to do the plotting in the gui window."
   ]
  },
  {
   "cell_type": "code",
   "execution_count": 1,
   "metadata": {
    "collapsed": false
   },
   "outputs": [],
   "source": [
    "from numpy import *\n",
    "from matplotlib.pyplot import *"
   ]
  },
  {
   "cell_type": "markdown",
   "metadata": {},
   "source": [
    "Tell Jupyter to render the plot in the notebook."
   ]
  },
  {
   "cell_type": "code",
   "execution_count": 2,
   "metadata": {
    "collapsed": true
   },
   "outputs": [],
   "source": [
    "%matplotlib inline"
   ]
  },
  {
   "cell_type": "markdown",
   "metadata": {},
   "source": [
    "Next, set up the things you want to plot"
   ]
  },
  {
   "cell_type": "code",
   "execution_count": 3,
   "metadata": {
    "collapsed": false
   },
   "outputs": [],
   "source": [
    "x = linspace(-2*pi,2*pi,100) # 100 data points spaced linearly\n",
    "y = cos(x)"
   ]
  },
  {
   "cell_type": "markdown",
   "metadata": {},
   "source": [
    "Now plot them and label a few things"
   ]
  },
  {
   "cell_type": "code",
   "execution_count": 4,
   "metadata": {
    "collapsed": false
   },
   "outputs": [
    {
     "data": {
      "image/png": "[encoded data removed]",
      "text/plain": [
       "<matplotlib.figure.Figure at 0x10c1a52e8>"
      ]
     },
     "metadata": {},
     "output_type": "display_data"
    }
   ],
   "source": [
    "plot(x,y,label=\"cos(x)\")\n",
    "xlabel(\"x\")\n",
    "ylabel(\"y\")\n",
    "title(\"hello world\")\n",
    "legend()\n",
    "savefig('hello_world.pdf') # Save this as a pdf file"
   ]
  },
  {
   "cell_type": "markdown",
   "metadata": {},
   "source": [
    "Useful references\n",
    "------\n",
    " \n",
    " * [Plotting commands summary](http://matplotlib.org/api/pyplot_summary.html)\n",
    " * [Gallery](http://matplotlib.org/gallery.html)\n",
    " * [astroplotlib](http://astroplotlib.stsci.edu/page_simple.htm) sample plots in both IDL and Python"
   ]
  },
  {
   "cell_type": "markdown",
   "metadata": {},
   "source": [
    "STOP\n",
    "====\n",
    "\n",
    "The example above saves typing, but can lead to \"namespace\" clashes, and makes it harder to copy code from the notebook to a script for use in \"production\".\n",
    "The *now standard* way to do the imports of numpy and matplotlib are in the cell below. "
   ]
  },
  {
   "cell_type": "markdown",
   "metadata": {},
   "source": [
    "Now do the imports and give them their standard names `np` and `plt`"
   ]
  },
  {
   "cell_type": "code",
   "execution_count": null,
   "metadata": {
    "collapsed": true
   },
   "outputs": [],
   "source": [
    "import numpy as np\n",
    "from matplotlib import pyplot as plt\n",
    "from scipy import stats # We'll use this to make some random distributions for examples"
   ]
  },
  {
   "cell_type": "markdown",
   "metadata": {},
   "source": [
    "Now let's make sure everyone is using the matplotlib default settings"
   ]
  },
  {
   "cell_type": "code",
   "execution_count": null,
   "metadata": {
    "collapsed": true
   },
   "outputs": [],
   "source": [
    "from matplotlib import rcdefaults\n",
    "rcdefaults()"
   ]
  },
  {
   "cell_type": "markdown",
   "metadata": {},
   "source": [
    "There are different ways to invoke matplotlib, depending on how you are using python. Here's a quick summary:\n",
    "\n",
    "| Environment       |       Command              | Rendering           |\n",
    "|-------------------|----------------------------|---------------------|\n",
    "| python shell:     | ```plt.ion()```            | Separate GUI        |\n",
    "| ipython shell:    | ```plt.ion()```            | Separate GUI        |\n",
    "| jupyter notebook: | ```%matplotlib inline```   | Non-GUI inline      |\n",
    "| jupyter notebook: | ```%matplotlib notebook``` | GUI inline          |\n",
    "\n",
    "We'll use the ```%matplotlib inline``` option, which doesn't give you the GUI.\n"
   ]
  },
  {
   "cell_type": "code",
   "execution_count": null,
   "metadata": {
    "collapsed": false
   },
   "outputs": [],
   "source": [
    "%matplotlib inline"
   ]
  },
  {
   "cell_type": "code",
   "execution_count": null,
   "metadata": {
    "collapsed": false
   },
   "outputs": [],
   "source": [
    "x = np.linspace(-2*np.pi,2*np.pi,100)\n",
    "y = np.cos(x)\n",
    "plt.plot(x,y,label=\"cos(x)\")"
   ]
  },
  {
   "cell_type": "markdown",
   "metadata": {},
   "source": [
    "A few other common examples\n",
    "========\n",
    "\n",
    "A colorful scatter plot. Lots of [colormaps](http://matplotlib.org/examples/color/colormaps_reference.html) available\n",
    " \n"
   ]
  },
  {
   "cell_type": "code",
   "execution_count": null,
   "metadata": {
    "collapsed": false
   },
   "outputs": [],
   "source": [
    "x = np.linspace(-2*np.pi,2*np.pi,500)\n",
    "signal = np.cos(x)\n",
    "noise = stats.norm().rvs(signal.shape) # Gets random deviates with a Gaussian distribution\n",
    "plot(x,signal,label='cos(x)',linewidth=2) # Setting the linewidth as well as the label\n",
    "scatter(x,signal+noise,label='random deviates',c=np.abs(noise),alpha=0.5) # Setting color and transparency\n",
    "plt.colorbar(label='residual')\n",
    "plt.ylim(-5,5)\n",
    "plt.legend()"
   ]
  },
  {
   "cell_type": "markdown",
   "metadata": {},
   "source": [
    "A histogram. Three different examples are shown. (Uncomment the commented lines and rerun the cell to experiment):\n",
    "\n",
    "  * a normalized histogram with the default binning and transparency set to 0.5\n",
    "  * a non-normalized histogram with custom binning from -4 to 4 in steps of 0.1 \n",
    "  * the same, but without the lines between the bins"
   ]
  },
  {
   "cell_type": "code",
   "execution_count": null,
   "metadata": {
    "collapsed": false
   },
   "outputs": [],
   "source": [
    "n,bins,patches = plt.hist(noise,normed=True,alpha=0.5) \n",
    "# n,bins,patches = plt.hist(noise,np.arange(-4,4.,0.1),alpha=0.5) \n",
    "# n,bins,patches = plt.hist(noise,np.arange(-4,4.,0.1),alpha=0.5,edgecolor='none') \n",
    "plt.plot(x,stats.norm().pdf(x))\n",
    "plt.xlim(-4,4)"
   ]
  },
  {
   "cell_type": "markdown",
   "metadata": {},
   "source": [
    "An image. We'll make a simulated field with two pixels lit up."
   ]
  },
  {
   "cell_type": "code",
   "execution_count": null,
   "metadata": {
    "collapsed": false
   },
   "outputs": [],
   "source": [
    "img = np.zeros((30,30),dtype=np.float64) # Set up an empty array\n",
    "img[5,25] = 100\n",
    "img[15,15] = 200\n",
    "plt.imshow(img)\n",
    "plt.colorbar()\n",
    "plt.ylabel('row')\n",
    "plt.xlabel('column')"
   ]
  },
  {
   "cell_type": "markdown",
   "metadata": {},
   "source": [
    "When displaying images read in from FITS files, you will often want to \n",
    " * Choose a different colormap (use plt.colormap() to see them)\n",
    " * Set the minimum and maximum of the colormap\n",
    " * Choose a different interpolation method to avoid smoothing\n",
    " * Transpose the two axes so that the fastest varying index running horizontally\n",
    " * Set the origin to be at the lower left\n",
    " \n",
    "To avoid confusion, get in the habit of thinking: `img[row,col]` rather than `img[x,y]`"
   ]
  },
  {
   "cell_type": "code",
   "execution_count": null,
   "metadata": {
    "collapsed": false
   },
   "outputs": [],
   "source": [
    "plt.imshow(img.T,cmap=plt.cm.gray,vmin=-20,vmax=200.,interpolation='nearest',origin='lower')\n",
    "plt.colorbar()\n",
    "plt.xlabel('FITS first axis (x)')\n",
    "plt.ylabel('FITS second axis (y)')\n",
    "plt.title('ds9 orientation')"
   ]
  },
  {
   "cell_type": "markdown",
   "metadata": {},
   "source": [
    "Everything is an object\n",
    "============\n",
    "You can happily simple make plots ignoring the object-oriented interface to matplotlib. But eventually you will need to adjust something that requires you to understand this. So let's do some styling on the first example.\n",
    "\n",
    "In the example below, fig is an instance of an object of the plt.figure class and ax is an instance of the axis class. You can use ipython to do a lot of introspection into these classes to find out their methods."
   ]
  },
  {
   "cell_type": "code",
   "execution_count": null,
   "metadata": {
    "collapsed": false
   },
   "outputs": [],
   "source": [
    "fig = plt.figure() \n",
    "ax = fig.add_subplot(1,1,1)\n",
    "line, = ax.plot(x,signal,label='cos(x)') \n",
    "# Note the comma in the line above. \n",
    "# This is because ax.plot returns a tuple; in this case there is just one element "
   ]
  },
  {
   "cell_type": "code",
   "execution_count": null,
   "metadata": {
    "collapsed": false
   },
   "outputs": [],
   "source": [
    "help(line)"
   ]
  },
  {
   "cell_type": "markdown",
   "metadata": {},
   "source": [
    "Now we can adjust things after having made the basic plot. Start with the linewith and color. "
   ]
  },
  {
   "cell_type": "code",
   "execution_count": null,
   "metadata": {
    "collapsed": false
   },
   "outputs": [],
   "source": [
    "line.set_linewidth(2)\n",
    "line.set_color('g')\n",
    "fig"
   ]
  },
  {
   "cell_type": "markdown",
   "metadata": {},
   "source": [
    "Label the axes, using LaTex formatting"
   ]
  },
  {
   "cell_type": "code",
   "execution_count": null,
   "metadata": {
    "collapsed": false
   },
   "outputs": [],
   "source": [
    "ax.set_ylabel(r\"$\\cos(\\theta)$\")\n",
    "ax.set_xlabel(r\"$\\theta ({\\rm radians})$\")\n",
    "ax.xaxis.label.set_fontsize(20)\n",
    "ax.set_xlim(-6,6)\n",
    "fig"
   ]
  },
  {
   "cell_type": "markdown",
   "metadata": {},
   "source": [
    "Add a second axis at the top. "
   ]
  },
  {
   "cell_type": "code",
   "execution_count": null,
   "metadata": {
    "collapsed": false
   },
   "outputs": [],
   "source": [
    "ax2 = ax.twiny() # This function puts a second axis at the top\n",
    "degrees = 180.*x/np.pi\n",
    "topticks = [] # Set up an empty list for the top ticks\n",
    "for t in ax.get_xticks():\n",
    "    topticks += [180.*t/np.pi] # Convert to degrees\n",
    "ax2.set_xticks(topticks)\n",
    "ax2.set_xlabel(r'$\\theta ({\\rm degrees})$',fontsize=20)\n",
    "fig"
   ]
  },
  {
   "cell_type": "markdown",
   "metadata": {},
   "source": [
    "Subplots. Here's the simplest way to do them. There are much fancier ways and you can lock the axes, which is quite handy in the interactive GUI.\n",
    "  \n",
    "  * [subplots examples](http://matplotlib.org/examples/pylab_examples/subplots_demo.html)\n",
    "  * [gridspec examples](http://matplotlib.org/users/gridspec.html) more complex, but more flexible than subplots."
   ]
  },
  {
   "cell_type": "code",
   "execution_count": null,
   "metadata": {
    "collapsed": false
   },
   "outputs": [],
   "source": [
    "plt.subplot(2,1,1)\n",
    "plt.plot(x,signal)\n",
    "plt.subplot(2,1,2)\n",
    "plt.plot(x,signal/(1+signal**2))"
   ]
  },
  {
   "cell_type": "markdown",
   "metadata": {},
   "source": [
    "Matplotlib styles\n",
    "---------\n",
    "\n",
    "Matplotlib now has [customizable styles](http://matplotlib.org/users/style_sheets.html). "
   ]
  },
  {
   "cell_type": "code",
   "execution_count": null,
   "metadata": {
    "collapsed": false
   },
   "outputs": [],
   "source": [
    "from matplotlib import style\n",
    "style.available"
   ]
  },
  {
   "cell_type": "markdown",
   "metadata": {},
   "source": [
    "Let's try the Grammar of Graphics style popular in R"
   ]
  },
  {
   "cell_type": "code",
   "execution_count": null,
   "metadata": {
    "collapsed": false
   },
   "outputs": [],
   "source": [
    "plt.style.use('ggplot')"
   ]
  },
  {
   "cell_type": "code",
   "execution_count": null,
   "metadata": {
    "collapsed": false
   },
   "outputs": [],
   "source": [
    "fig = plt.figure()\n",
    "ax = fig.add_subplot(1,1,1)\n",
    "line, = ax.plot(x,signal,label='cos(x)')\n",
    "ax.set_xlabel(r'$\\theta ({\\rm radians})$')"
   ]
  },
  {
   "cell_type": "markdown",
   "metadata": {},
   "source": [
    "There's even an [XKCD](http://xkcd.com) emulator. You must supply your own humor."
   ]
  },
  {
   "cell_type": "code",
   "execution_count": null,
   "metadata": {
    "collapsed": false
   },
   "outputs": [],
   "source": [
    "plt.style.use('classic')\n",
    "plt.xkcd()\n",
    "fig = plt.figure()\n",
    "ax = fig.add_subplot(1,1,1)\n",
    "line, = ax.plot(x,signal,label='cos(x)')\n",
    "ax.set_xlim(-1,5)\n",
    "ax.set_ylim(-1.2,1.2)"
   ]
  },
  {
   "cell_type": "code",
   "execution_count": null,
   "metadata": {
    "collapsed": false
   },
   "outputs": [],
   "source": [
    "ax.set_ylabel('level of attention')\n",
    "ax.text(0.5,1.0,\"Coffee\")\n",
    "ax.text(3.2,-0.5,\"Look, a squirrel!\",horizontalalignment='center')\n",
    "fig"
   ]
  },
  {
   "cell_type": "markdown",
   "metadata": {},
   "source": [
    "We should really remove the axis labeling..."
   ]
  },
  {
   "cell_type": "code",
   "execution_count": null,
   "metadata": {
    "collapsed": false
   },
   "outputs": [],
   "source": [
    "plt.setp(ax.get_xticklabels(),visible=False)\n",
    "plt.setp(ax.get_xticklines(),visible=False)\n",
    "fig"
   ]
  },
  {
   "cell_type": "markdown",
   "metadata": {},
   "source": [
    "A Couple other Python plotting packages\n",
    "--------------\n",
    "\n",
    " * [pyqtgraph](http://www.pyqtgraph.org) Higher performance for large datasets and building GUIs\n",
    " * [bokeh](http://bokeh.pydata.org) Aimed at browser-based visualization of large data sets\n",
    " "
   ]
  }
 ],
 "metadata": {
  "anaconda-cloud": {},
  "kernelspec": {
   "display_name": "Python [default]",
   "language": "python",
   "name": "python3"
  },
  "language_info": {
   "codemirror_mode": {
    "name": "ipython",
    "version": 3
   },
   "file_extension": ".py",
   "mimetype": "text/x-python",
   "name": "python",
   "nbconvert_exporter": "python",
   "pygments_lexer": "ipython3",
   "version": "3.5.2"
  }
 },
 "nbformat": 4,
 "nbformat_minor": 1
}
