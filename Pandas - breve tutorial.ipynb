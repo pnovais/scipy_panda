{
 "cells": [
  {
   "cell_type": "markdown",
   "metadata": {},
   "source": [
    "# PANDAS - UMA BREVE INTRODUÇÃO\n",
    "\n",
    "Este é um breve tutorial de Pandas, dentro do contexto do Grupo de Estudos em programação científica com Python, SciPy SP.\n",
    "\n",
    "**Autor**: Patricia Novais\n",
    "\n",
    "Dezembro de 2016\n",
    "\n",
    "**---------------------------------------------------------------------**\n"
   ]
  },
  {
   "cell_type": "markdown",
   "metadata": {},
   "source": [
    "A primeira coisa a fazer é importar os pacotes necessários:\n"
   ]
  },
  {
   "cell_type": "code",
   "execution_count": 2,
   "metadata": {
    "collapsed": true
   },
   "outputs": [],
   "source": [
    "import numpy as np\n",
    "import pandas as pd\n",
    "import matplotlib.pyplot as plt"
   ]
  },
  {
   "cell_type": "markdown",
   "metadata": {},
   "source": [
    "Precisamos dizer ao Jupyter que os plots serão renderizados aqui:"
   ]
  },
  {
   "cell_type": "code",
   "execution_count": 3,
   "metadata": {
    "collapsed": true
   },
   "outputs": [],
   "source": [
    "%matplotlib inline"
   ]
  },
  {
   "cell_type": "markdown",
   "metadata": {},
   "source": [
    "## Abrindo os arquivos de dados\n",
    "\n",
    "O pandas possui várias opções de leitura de arquivo, que você pode conferir no link http://pandas.pydata.org/pandas-docs/stable/io.html\n",
    "\n",
    "Aqui, iremos utilizar apenas os comandos *read_table* e *read_csv* dependendo da extenção do nosso arquivo (Se .txt ou .csv)"
   ]
  },
  {
   "cell_type": "code",
   "execution_count": 4,
   "metadata": {
    "collapsed": true
   },
   "outputs": [],
   "source": [
    "df = pd.read_csv('scipy_example_pnovais.csv')"
   ]
  },
  {
   "cell_type": "markdown",
   "metadata": {},
   "source": [
    "## Visão geral dos dados\n",
    "\n",
    "Agora que o arquivo foi lido, podemos ter um *overview* dos dados, utilizando os comandos head(), tail() e describe()"
   ]
  },
  {
   "cell_type": "code",
   "execution_count": null,
   "metadata": {
    "collapsed": true
   },
   "outputs": [],
   "source": [
    "df.head() # exibe as primeiras 5 linhas do dataframe"
   ]
  },
  {
   "cell_type": "code",
   "execution_count": null,
   "metadata": {
    "collapsed": true
   },
   "outputs": [],
   "source": [
    "df.tail() # exibe as últimas 5 linhas do dataframe"
   ]
  },
  {
   "cell_type": "code",
   "execution_count": null,
   "metadata": {
    "collapsed": true
   },
   "outputs": [],
   "source": [
    "df.describe() #faz uma breve descrição dos dados, através de média, min, max, desvio padrão..."
   ]
  },
  {
   "cell_type": "markdown",
   "metadata": {},
   "source": [
    "## Criando condições, fatiando, unindo...\n",
    "\n",
    "\n",
    "Todos os comandos acima podem ser executados dado uma certa condição:"
   ]
  },
  {
   "cell_type": "code",
   "execution_count": null,
   "metadata": {
    "collapsed": true
   },
   "outputs": [],
   "source": [
    "df[df.u > 22].head() # imprime as 5 primeiras linhas dos dados cujo valor de *u* seja maior do que 22"
   ]
  },
  {
   "cell_type": "code",
   "execution_count": null,
   "metadata": {
    "collapsed": true
   },
   "outputs": [],
   "source": [
    "df[df.u > 22].describe() # descrição dos dados cujo valor de *u* seja maior do que 22"
   ]
  },
  {
   "cell_type": "markdown",
   "metadata": {},
   "source": [
    "Algo muito útil é poder fatiar seus dados, separar apenas aquilo que interessa. Existem alguns modos de fatiar os dados (do inglês, **slice**), mas usaremos basicamente o comando .ix(). Para estudar os demais, consulte http://pandas.pydata.org/pandas-docs/stable/indexing.html"
   ]
  },
  {
   "cell_type": "code",
   "execution_count": null,
   "metadata": {
    "collapsed": true
   },
   "outputs": [],
   "source": [
    "df1 = df.ix[:,1:] #selecionando todas as colunas a partir da coluna 1 (lembrando que a indexação do Python começa em 0)\n",
    "df1.head()"
   ]
  },
  {
   "cell_type": "code",
   "execution_count": null,
   "metadata": {
    "collapsed": true
   },
   "outputs": [],
   "source": [
    "df2 = df.ix[:,(1,3,5)] #selecionando apenas as colunas 1, 3 e 5\n",
    "df2.head()"
   ]
  },
  {
   "cell_type": "code",
   "execution_count": null,
   "metadata": {
    "collapsed": true
   },
   "outputs": [],
   "source": [
    "df3 = df.ix[:,('u','r','z')] #selecionando apenas as colunas 1, 3 e 5, mas utilizando o nome das colunas\n",
    "df3.head()"
   ]
  },
  {
   "cell_type": "code",
   "execution_count": null,
   "metadata": {
    "collapsed": true
   },
   "outputs": [],
   "source": [
    "df4 = df.ix[:,(0,2)]\n",
    "df4.head()"
   ]
  },
  {
   "cell_type": "markdown",
   "metadata": {},
   "source": [
    "Ainda, podemos fazer o contrário, juntar dados num mesmo dataframe. Para ter toda a documentação de concatenação, fusão e junção de dados, consulte http://pandas.pydata.org/pandas-docs/stable/merging.html\n",
    "\n",
    "Se os dados não possuem nenhuma coluna em comum, podemos utilizar o comando **join()**"
   ]
  },
  {
   "cell_type": "code",
   "execution_count": null,
   "metadata": {
    "collapsed": true
   },
   "outputs": [],
   "source": [
    "df5 = df4.join(df3)\n",
    "df5.head()"
   ]
  },
  {
   "cell_type": "markdown",
   "metadata": {},
   "source": [
    "Outra opção é utilizar o **concat()**"
   ]
  },
  {
   "cell_type": "code",
   "execution_count": null,
   "metadata": {
    "collapsed": true
   },
   "outputs": [],
   "source": [
    "df6 = pd.concat([df4,df3],axis=1) #axis=1 diz q a concatenação vai acontecer entre as colunas e não entre as linhas\n",
    "df6.head()"
   ]
  },
  {
   "cell_type": "markdown",
   "metadata": {},
   "source": [
    "Quando os dataframes possuem ao menos uma coluna em comum, é possível utilizar o comando **merge()**"
   ]
  },
  {
   "cell_type": "code",
   "execution_count": null,
   "metadata": {
    "collapsed": true
   },
   "outputs": [],
   "source": [
    "df7 = pd.merge(df1,df4) #perceba que a ordem altera o resultado\n",
    "df7.head()"
   ]
  },
  {
   "cell_type": "code",
   "execution_count": null,
   "metadata": {
    "collapsed": true
   },
   "outputs": [],
   "source": [
    "df8 = pd.merge(df4,df1) #perceba que a ordem altera o resultado\n",
    "df8.head()"
   ]
  },
  {
   "cell_type": "markdown",
   "metadata": {},
   "source": [
    "Podemos criar novas colunas a partir da manipulação de outras colunas"
   ]
  },
  {
   "cell_type": "code",
   "execution_count": null,
   "metadata": {
    "collapsed": true
   },
   "outputs": [],
   "source": [
    "df['gr'] = df.g - df.r\n",
    "df['ri'] = df.r - df.i\n",
    "df['ur'] = df.u - df.r"
   ]
  },
  {
   "cell_type": "markdown",
   "metadata": {},
   "source": [
    "## Estatísticas básicas\n",
    "\n",
    "\n",
    "O pandas permite ainda algumas estatísticas básicas bastante úteis, como **média**, **desvio padrão**, **soma**, **valor máximo**. Um rápida referência pode ser encontrada em http://pandas.pydata.org/pandas-docs/stable/basics.html#descriptive-statistics"
   ]
  },
  {
   "cell_type": "code",
   "execution_count": null,
   "metadata": {
    "collapsed": true
   },
   "outputs": [],
   "source": [
    "df.mean()"
   ]
  },
  {
   "cell_type": "markdown",
   "metadata": {},
   "source": [
    "df.median()"
   ]
  },
  {
   "cell_type": "code",
   "execution_count": null,
   "metadata": {
    "collapsed": true
   },
   "outputs": [],
   "source": [
    "df.max()"
   ]
  },
  {
   "cell_type": "code",
   "execution_count": null,
   "metadata": {
    "collapsed": true
   },
   "outputs": [],
   "source": [
    "df.gr.max()"
   ]
  },
  {
   "cell_type": "code",
   "execution_count": null,
   "metadata": {
    "collapsed": true
   },
   "outputs": [],
   "source": [
    "df.gr.min()"
   ]
  },
  {
   "cell_type": "code",
   "execution_count": null,
   "metadata": {
    "collapsed": true
   },
   "outputs": [],
   "source": [
    "df.gr.var()"
   ]
  },
  {
   "cell_type": "markdown",
   "metadata": {},
   "source": [
    "## Primeiros gráficos\n",
    "\n",
    "Apesar de existir outros pacotes do python que fazem bem a tarefa de visualização de dados, o ***pandas*** pode ser bastante útil para fazer algumas análises rápidas.\n",
    "Podemos plotar as correlações entre os parâmetros, criar histrogramas, boxplots, diagramas de pizza..."
   ]
  },
  {
   "cell_type": "code",
   "execution_count": null,
   "metadata": {
    "collapsed": true
   },
   "outputs": [],
   "source": [
    "df = df.ix[:,1:] #tirando a primeira coluna, que não tem informação útil\n",
    "pd.scatter_matrix(df) #fazendo os diagramas de dispersão de todos os parâmetros+histograma"
   ]
  },
  {
   "cell_type": "markdown",
   "metadata": {},
   "source": [
    "O comando **scatter_matrix()** não produz gráficos muito elegrantes, principalmente se seu dataframe possuir muitas colunas, mas traz um noção geral dos dados.\n",
    "\n",
    "Caso queira saber quais foram exatamente as correlações entre os parâmetros, pode-se usar o comando **corr()**"
   ]
  },
  {
   "cell_type": "code",
   "execution_count": null,
   "metadata": {
    "collapsed": true
   },
   "outputs": [],
   "source": [
    "df.corr(method='spearman') #method : {‘pearson’, ‘kendall’, ‘spearman’}"
   ]
  },
  {
   "cell_type": "markdown",
   "metadata": {
    "collapsed": true
   },
   "source": [
    "Para fazer os scatter_plot's individuais, podemos usar a função **plot()**, onde o parâmetro *kind* dirá o tipo de plot que queremos. Mais informações podem ser encontradas em http://pandas.pydata.org/pandas-docs/version/0.17.0/generated/pandas.DataFrame.plot.html#pandas.DataFrame.plot"
   ]
  },
  {
   "cell_type": "code",
   "execution_count": null,
   "metadata": {
    "collapsed": true
   },
   "outputs": [],
   "source": [
    "df.plot(kind='scatter', x='i', y='ri')"
   ]
  },
  {
   "cell_type": "code",
   "execution_count": null,
   "metadata": {
    "collapsed": true
   },
   "outputs": [],
   "source": [
    "df.plot(kind='scatter', x='u', y='ur')"
   ]
  },
  {
   "cell_type": "markdown",
   "metadata": {},
   "source": [
    "Para fazer os histogramas, podemos fazê-los todos numa mesma janela com o **df.plot(kind='hist')** ou em janela distintas com o **df.hist()**"
   ]
  },
  {
   "cell_type": "code",
   "execution_count": null,
   "metadata": {
    "collapsed": true
   },
   "outputs": [],
   "source": [
    "df.plot(kind='hist')"
   ]
  },
  {
   "cell_type": "code",
   "execution_count": null,
   "metadata": {
    "collapsed": true
   },
   "outputs": [],
   "source": [
    "df.hist()"
   ]
  },
  {
   "cell_type": "markdown",
   "metadata": {},
   "source": [
    "Para fazer o histograma de alguma coluna específica, podemos usar os mesmos comandos acima, mas especificando qual coluna usar"
   ]
  },
  {
   "cell_type": "code",
   "execution_count": null,
   "metadata": {
    "collapsed": true
   },
   "outputs": [],
   "source": [
    "df.gr.hist()"
   ]
  },
  {
   "cell_type": "code",
   "execution_count": null,
   "metadata": {
    "collapsed": true
   },
   "outputs": [],
   "source": [
    "df.gr.plot(kind='hist')"
   ]
  },
  {
   "cell_type": "code",
   "execution_count": null,
   "metadata": {
    "collapsed": true
   },
   "outputs": [],
   "source": [
    "df.gr.plot(kind='box')"
   ]
  },
  {
   "cell_type": "code",
   "execution_count": null,
   "metadata": {
    "collapsed": true
   },
   "outputs": [],
   "source": [
    "df.gr.plot(kind='kde')"
   ]
  },
  {
   "cell_type": "markdown",
   "metadata": {
    "collapsed": true
   },
   "source": [
    "O **pandas** é um pacote muito poderoso, o que vimos aqui é só a *ponta do iceberg*, tem muito o que ser explorado. Entretanto, espero que essa breve introdução tenha servido para mostrar que esse pacote é muito *friendly* e bacana de trabalhar. Em uma pesquisa rápida no Google é possível encontrar materiais bem avançandos sobre ele."
   ]
  }
 ],
 "metadata": {
  "anaconda-cloud": {},
  "kernelspec": {
   "display_name": "Python [default]",
   "language": "python",
   "name": "python2"
  },
  "language_info": {
   "codemirror_mode": {
    "name": "ipython",
    "version": 2
   },
   "file_extension": ".py",
   "mimetype": "text/x-python",
   "name": "python",
   "nbconvert_exporter": "python",
   "pygments_lexer": "ipython2",
   "version": "2.7.12"
  }
 },
 "nbformat": 4,
 "nbformat_minor": 1
}
