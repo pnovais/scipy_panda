{
 "cells": [
  {
   "cell_type": "markdown",
   "metadata": {},
   "source": [
    "# PANDAS - UMA BREVE INTRODUÇÃO\n",
    "\n",
    "Este é um breve tutorial de Pandas, dentro do contexto do Grupo de Estudos em programação científica com Python, SciPy SP.\n",
    "\n",
    "**Autor**: Patricia Novais\n",
    "\n",
    "Dezembro de 2016\n",
    "\n",
    "**---------------------------------------------------------------------**\n"
   ]
  },
  {
   "cell_type": "markdown",
   "metadata": {},
   "source": [
    "A primeira coisa a fazer é importar os pacotes necessários:\n"
   ]
  },
  {
   "cell_type": "code",
   "execution_count": 3,
   "metadata": {
    "collapsed": true
   },
   "outputs": [],
   "source": [
    "import numpy as np\n",
    "import pandas as pd\n",
    "import matplotlib.pyplot as plt"
   ]
  },
  {
   "cell_type": "markdown",
   "metadata": {},
   "source": [
    "Precisamos dizer ao Jupyter que os plots serão renderizados aqui:"
   ]
  },
  {
   "cell_type": "code",
   "execution_count": 4,
   "metadata": {
    "collapsed": true
   },
   "outputs": [],
   "source": [
    "%matplotlib inline"
   ]
  },
  {
   "cell_type": "markdown",
   "metadata": {},
   "source": [
    "## Abrindo os arquivos de dados\n",
    "\n",
    "O pandas possui várias opções de leitura de arquivo, que você pode conferir no link http://pandas.pydata.org/pandas-docs/stable/io.html\n",
    "\n",
    "Aqui, iremos utilizar apenas os comandos *read_table* e *read_csv* dependendo da extenção do nosso arquivo (Se .txt ou .csv)"
   ]
  },
  {
   "cell_type": "code",
   "execution_count": 7,
   "metadata": {
    "collapsed": true
   },
   "outputs": [],
   "source": [
    "df = pd.read_csv('scipy_example_pnovais.csv')"
   ]
  },
  {
   "cell_type": "markdown",
   "metadata": {},
   "source": [
    "Agora que o arquivo foi lido, podemos ter um *overview* dos dados, utilizando os comandos head(), tail() e describe()"
   ]
  },
  {
   "cell_type": "code",
   "execution_count": 8,
   "metadata": {
    "collapsed": false
   },
   "outputs": [
    {
     "data": {
      "text/html": [
       "<div>\n",
       "<table border=\"1\" class=\"dataframe\">\n",
       "  <thead>\n",
       "    <tr style=\"text-align: right;\">\n",
       "      <th></th>\n",
       "      <th>objID</th>\n",
       "      <th>u</th>\n",
       "      <th>g</th>\n",
       "      <th>r</th>\n",
       "      <th>i</th>\n",
       "      <th>z</th>\n",
       "    </tr>\n",
       "  </thead>\n",
       "  <tbody>\n",
       "    <tr>\n",
       "      <th>0</th>\n",
       "      <td>588848900971299281</td>\n",
       "      <td>22.55218</td>\n",
       "      <td>21.08744</td>\n",
       "      <td>20.28041</td>\n",
       "      <td>20.04251</td>\n",
       "      <td>19.37127</td>\n",
       "    </tr>\n",
       "    <tr>\n",
       "      <th>1</th>\n",
       "      <td>588848900971299282</td>\n",
       "      <td>22.67882</td>\n",
       "      <td>24.14491</td>\n",
       "      <td>21.37153</td>\n",
       "      <td>20.88683</td>\n",
       "      <td>21.16393</td>\n",
       "    </tr>\n",
       "    <tr>\n",
       "      <th>2</th>\n",
       "      <td>588848900971299284</td>\n",
       "      <td>21.53908</td>\n",
       "      <td>22.09095</td>\n",
       "      <td>20.81463</td>\n",
       "      <td>19.83287</td>\n",
       "      <td>22.76383</td>\n",
       "    </tr>\n",
       "    <tr>\n",
       "      <th>3</th>\n",
       "      <td>588848900971299285</td>\n",
       "      <td>22.57927</td>\n",
       "      <td>22.40949</td>\n",
       "      <td>21.69262</td>\n",
       "      <td>20.85991</td>\n",
       "      <td>19.54916</td>\n",
       "    </tr>\n",
       "    <tr>\n",
       "      <th>4</th>\n",
       "      <td>588848900971299286</td>\n",
       "      <td>22.34326</td>\n",
       "      <td>22.47549</td>\n",
       "      <td>21.70187</td>\n",
       "      <td>21.27564</td>\n",
       "      <td>24.48958</td>\n",
       "    </tr>\n",
       "  </tbody>\n",
       "</table>\n",
       "</div>"
      ],
      "text/plain": [
       "                objID         u         g         r         i         z\n",
       "0  588848900971299281  22.55218  21.08744  20.28041  20.04251  19.37127\n",
       "1  588848900971299282  22.67882  24.14491  21.37153  20.88683  21.16393\n",
       "2  588848900971299284  21.53908  22.09095  20.81463  19.83287  22.76383\n",
       "3  588848900971299285  22.57927  22.40949  21.69262  20.85991  19.54916\n",
       "4  588848900971299286  22.34326  22.47549  21.70187  21.27564  24.48958"
      ]
     },
     "execution_count": 8,
     "metadata": {},
     "output_type": "execute_result"
    }
   ],
   "source": [
    "df.head() # exibe as primeiras 5 linhas do dataframe"
   ]
  },
  {
   "cell_type": "code",
   "execution_count": 9,
   "metadata": {
    "collapsed": false
   },
   "outputs": [
    {
     "data": {
      "text/html": [
       "<div>\n",
       "<table border=\"1\" class=\"dataframe\">\n",
       "  <thead>\n",
       "    <tr style=\"text-align: right;\">\n",
       "      <th></th>\n",
       "      <th>objID</th>\n",
       "      <th>u</th>\n",
       "      <th>g</th>\n",
       "      <th>r</th>\n",
       "      <th>i</th>\n",
       "      <th>z</th>\n",
       "    </tr>\n",
       "  </thead>\n",
       "  <tbody>\n",
       "    <tr>\n",
       "      <th>995</th>\n",
       "      <td>588848900971561128</td>\n",
       "      <td>21.77360</td>\n",
       "      <td>20.50731</td>\n",
       "      <td>20.99524</td>\n",
       "      <td>18.81902</td>\n",
       "      <td>20.07818</td>\n",
       "    </tr>\n",
       "    <tr>\n",
       "      <th>996</th>\n",
       "      <td>588848900971561131</td>\n",
       "      <td>24.20203</td>\n",
       "      <td>22.59931</td>\n",
       "      <td>21.91894</td>\n",
       "      <td>23.26985</td>\n",
       "      <td>22.23001</td>\n",
       "    </tr>\n",
       "    <tr>\n",
       "      <th>997</th>\n",
       "      <td>588848900971561133</td>\n",
       "      <td>27.88187</td>\n",
       "      <td>24.20264</td>\n",
       "      <td>22.15804</td>\n",
       "      <td>21.01927</td>\n",
       "      <td>22.81669</td>\n",
       "    </tr>\n",
       "    <tr>\n",
       "      <th>998</th>\n",
       "      <td>588848900971561134</td>\n",
       "      <td>26.54534</td>\n",
       "      <td>22.41273</td>\n",
       "      <td>21.62476</td>\n",
       "      <td>21.25577</td>\n",
       "      <td>21.04195</td>\n",
       "    </tr>\n",
       "    <tr>\n",
       "      <th>999</th>\n",
       "      <td>588848900971561142</td>\n",
       "      <td>24.82389</td>\n",
       "      <td>19.18991</td>\n",
       "      <td>18.09366</td>\n",
       "      <td>17.92763</td>\n",
       "      <td>17.69641</td>\n",
       "    </tr>\n",
       "  </tbody>\n",
       "</table>\n",
       "</div>"
      ],
      "text/plain": [
       "                  objID         u         g         r         i         z\n",
       "995  588848900971561128  21.77360  20.50731  20.99524  18.81902  20.07818\n",
       "996  588848900971561131  24.20203  22.59931  21.91894  23.26985  22.23001\n",
       "997  588848900971561133  27.88187  24.20264  22.15804  21.01927  22.81669\n",
       "998  588848900971561134  26.54534  22.41273  21.62476  21.25577  21.04195\n",
       "999  588848900971561142  24.82389  19.18991  18.09366  17.92763  17.69641"
      ]
     },
     "execution_count": 9,
     "metadata": {},
     "output_type": "execute_result"
    }
   ],
   "source": [
    "df.tail() # exibe as últimas 5 linhas do dataframe"
   ]
  },
  {
   "cell_type": "code",
   "execution_count": 11,
   "metadata": {
    "collapsed": false
   },
   "outputs": [
    {
     "data": {
      "text/html": [
       "<div>\n",
       "<table border=\"1\" class=\"dataframe\">\n",
       "  <thead>\n",
       "    <tr style=\"text-align: right;\">\n",
       "      <th></th>\n",
       "      <th>objID</th>\n",
       "      <th>u</th>\n",
       "      <th>g</th>\n",
       "      <th>r</th>\n",
       "      <th>i</th>\n",
       "      <th>z</th>\n",
       "    </tr>\n",
       "  </thead>\n",
       "  <tbody>\n",
       "    <tr>\n",
       "      <th>count</th>\n",
       "      <td>1.000000e+03</td>\n",
       "      <td>1000.000000</td>\n",
       "      <td>1000.000000</td>\n",
       "      <td>1000.000000</td>\n",
       "      <td>1000.000000</td>\n",
       "      <td>1000.000000</td>\n",
       "    </tr>\n",
       "    <tr>\n",
       "      <th>mean</th>\n",
       "      <td>5.888489e+17</td>\n",
       "      <td>23.494416</td>\n",
       "      <td>22.421346</td>\n",
       "      <td>21.162885</td>\n",
       "      <td>21.070447</td>\n",
       "      <td>20.603184</td>\n",
       "    </tr>\n",
       "    <tr>\n",
       "      <th>std</th>\n",
       "      <td>7.197984e+04</td>\n",
       "      <td>1.871991</td>\n",
       "      <td>1.455900</td>\n",
       "      <td>1.096750</td>\n",
       "      <td>1.821276</td>\n",
       "      <td>1.745293</td>\n",
       "    </tr>\n",
       "    <tr>\n",
       "      <th>min</th>\n",
       "      <td>5.888489e+17</td>\n",
       "      <td>17.648830</td>\n",
       "      <td>15.364420</td>\n",
       "      <td>14.378490</td>\n",
       "      <td>13.892320</td>\n",
       "      <td>13.582260</td>\n",
       "    </tr>\n",
       "    <tr>\n",
       "      <th>25%</th>\n",
       "      <td>5.888489e+17</td>\n",
       "      <td>22.186037</td>\n",
       "      <td>21.777965</td>\n",
       "      <td>20.711615</td>\n",
       "      <td>20.217710</td>\n",
       "      <td>19.676517</td>\n",
       "    </tr>\n",
       "    <tr>\n",
       "      <th>50%</th>\n",
       "      <td>5.888489e+17</td>\n",
       "      <td>23.057755</td>\n",
       "      <td>22.410130</td>\n",
       "      <td>21.373365</td>\n",
       "      <td>20.939620</td>\n",
       "      <td>20.328020</td>\n",
       "    </tr>\n",
       "    <tr>\n",
       "      <th>75%</th>\n",
       "      <td>5.888489e+17</td>\n",
       "      <td>24.627623</td>\n",
       "      <td>23.004250</td>\n",
       "      <td>21.793685</td>\n",
       "      <td>21.518805</td>\n",
       "      <td>21.240655</td>\n",
       "    </tr>\n",
       "    <tr>\n",
       "      <th>max</th>\n",
       "      <td>5.888489e+17</td>\n",
       "      <td>30.902530</td>\n",
       "      <td>31.013420</td>\n",
       "      <td>30.592960</td>\n",
       "      <td>31.477660</td>\n",
       "      <td>29.166450</td>\n",
       "    </tr>\n",
       "  </tbody>\n",
       "</table>\n",
       "</div>"
      ],
      "text/plain": [
       "              objID            u            g            r            i  \\\n",
       "count  1.000000e+03  1000.000000  1000.000000  1000.000000  1000.000000   \n",
       "mean   5.888489e+17    23.494416    22.421346    21.162885    21.070447   \n",
       "std    7.197984e+04     1.871991     1.455900     1.096750     1.821276   \n",
       "min    5.888489e+17    17.648830    15.364420    14.378490    13.892320   \n",
       "25%    5.888489e+17    22.186037    21.777965    20.711615    20.217710   \n",
       "50%    5.888489e+17    23.057755    22.410130    21.373365    20.939620   \n",
       "75%    5.888489e+17    24.627623    23.004250    21.793685    21.518805   \n",
       "max    5.888489e+17    30.902530    31.013420    30.592960    31.477660   \n",
       "\n",
       "                 z  \n",
       "count  1000.000000  \n",
       "mean     20.603184  \n",
       "std       1.745293  \n",
       "min      13.582260  \n",
       "25%      19.676517  \n",
       "50%      20.328020  \n",
       "75%      21.240655  \n",
       "max      29.166450  "
      ]
     },
     "execution_count": 11,
     "metadata": {},
     "output_type": "execute_result"
    }
   ],
   "source": [
    "df.describe() #faz uma breve descrição dos dados, através de média, min, max, desvio padrão..."
   ]
  },
  {
   "cell_type": "markdown",
   "metadata": {},
   "source": [
    "Todos os comandos acima podem ser executados dado uma certa condição:"
   ]
  },
  {
   "cell_type": "code",
   "execution_count": 17,
   "metadata": {
    "collapsed": false
   },
   "outputs": [
    {
     "data": {
      "text/html": [
       "<div>\n",
       "<table border=\"1\" class=\"dataframe\">\n",
       "  <thead>\n",
       "    <tr style=\"text-align: right;\">\n",
       "      <th></th>\n",
       "      <th>objID</th>\n",
       "      <th>u</th>\n",
       "      <th>g</th>\n",
       "      <th>r</th>\n",
       "      <th>i</th>\n",
       "      <th>z</th>\n",
       "    </tr>\n",
       "  </thead>\n",
       "  <tbody>\n",
       "    <tr>\n",
       "      <th>0</th>\n",
       "      <td>588848900971299281</td>\n",
       "      <td>22.55218</td>\n",
       "      <td>21.08744</td>\n",
       "      <td>20.28041</td>\n",
       "      <td>20.04251</td>\n",
       "      <td>19.37127</td>\n",
       "    </tr>\n",
       "    <tr>\n",
       "      <th>1</th>\n",
       "      <td>588848900971299282</td>\n",
       "      <td>22.67882</td>\n",
       "      <td>24.14491</td>\n",
       "      <td>21.37153</td>\n",
       "      <td>20.88683</td>\n",
       "      <td>21.16393</td>\n",
       "    </tr>\n",
       "    <tr>\n",
       "      <th>3</th>\n",
       "      <td>588848900971299285</td>\n",
       "      <td>22.57927</td>\n",
       "      <td>22.40949</td>\n",
       "      <td>21.69262</td>\n",
       "      <td>20.85991</td>\n",
       "      <td>19.54916</td>\n",
       "    </tr>\n",
       "    <tr>\n",
       "      <th>4</th>\n",
       "      <td>588848900971299286</td>\n",
       "      <td>22.34326</td>\n",
       "      <td>22.47549</td>\n",
       "      <td>21.70187</td>\n",
       "      <td>21.27564</td>\n",
       "      <td>24.48958</td>\n",
       "    </tr>\n",
       "    <tr>\n",
       "      <th>5</th>\n",
       "      <td>588848900971299290</td>\n",
       "      <td>24.12965</td>\n",
       "      <td>23.06622</td>\n",
       "      <td>21.27620</td>\n",
       "      <td>20.61665</td>\n",
       "      <td>20.08728</td>\n",
       "    </tr>\n",
       "  </tbody>\n",
       "</table>\n",
       "</div>"
      ],
      "text/plain": [
       "                objID         u         g         r         i         z\n",
       "0  588848900971299281  22.55218  21.08744  20.28041  20.04251  19.37127\n",
       "1  588848900971299282  22.67882  24.14491  21.37153  20.88683  21.16393\n",
       "3  588848900971299285  22.57927  22.40949  21.69262  20.85991  19.54916\n",
       "4  588848900971299286  22.34326  22.47549  21.70187  21.27564  24.48958\n",
       "5  588848900971299290  24.12965  23.06622  21.27620  20.61665  20.08728"
      ]
     },
     "execution_count": 17,
     "metadata": {},
     "output_type": "execute_result"
    }
   ],
   "source": [
    "df[df.u > 22].head() # imprime as 5 primeiras linhas dos dados cujo valor de *u* seja maior do que 22"
   ]
  },
  {
   "cell_type": "code",
   "execution_count": 18,
   "metadata": {
    "collapsed": false
   },
   "outputs": [
    {
     "data": {
      "text/html": [
       "<div>\n",
       "<table border=\"1\" class=\"dataframe\">\n",
       "  <thead>\n",
       "    <tr style=\"text-align: right;\">\n",
       "      <th></th>\n",
       "      <th>objID</th>\n",
       "      <th>u</th>\n",
       "      <th>g</th>\n",
       "      <th>r</th>\n",
       "      <th>i</th>\n",
       "      <th>z</th>\n",
       "    </tr>\n",
       "  </thead>\n",
       "  <tbody>\n",
       "    <tr>\n",
       "      <th>count</th>\n",
       "      <td>8.060000e+02</td>\n",
       "      <td>806.000000</td>\n",
       "      <td>806.000000</td>\n",
       "      <td>806.000000</td>\n",
       "      <td>806.000000</td>\n",
       "      <td>806.000000</td>\n",
       "    </tr>\n",
       "    <tr>\n",
       "      <th>mean</th>\n",
       "      <td>5.888489e+17</td>\n",
       "      <td>24.031620</td>\n",
       "      <td>22.657744</td>\n",
       "      <td>21.374749</td>\n",
       "      <td>21.235349</td>\n",
       "      <td>20.789042</td>\n",
       "    </tr>\n",
       "    <tr>\n",
       "      <th>std</th>\n",
       "      <td>7.310573e+04</td>\n",
       "      <td>1.644967</td>\n",
       "      <td>1.148938</td>\n",
       "      <td>0.792336</td>\n",
       "      <td>1.538440</td>\n",
       "      <td>1.555778</td>\n",
       "    </tr>\n",
       "    <tr>\n",
       "      <th>min</th>\n",
       "      <td>5.888489e+17</td>\n",
       "      <td>22.003390</td>\n",
       "      <td>18.725590</td>\n",
       "      <td>18.093660</td>\n",
       "      <td>17.555250</td>\n",
       "      <td>17.024490</td>\n",
       "    </tr>\n",
       "    <tr>\n",
       "      <th>25%</th>\n",
       "      <td>5.888489e+17</td>\n",
       "      <td>22.677747</td>\n",
       "      <td>22.047535</td>\n",
       "      <td>20.947987</td>\n",
       "      <td>20.426390</td>\n",
       "      <td>19.840058</td>\n",
       "    </tr>\n",
       "    <tr>\n",
       "      <th>50%</th>\n",
       "      <td>5.888489e+17</td>\n",
       "      <td>23.589945</td>\n",
       "      <td>22.510105</td>\n",
       "      <td>21.502660</td>\n",
       "      <td>21.038390</td>\n",
       "      <td>20.415240</td>\n",
       "    </tr>\n",
       "    <tr>\n",
       "      <th>75%</th>\n",
       "      <td>5.888489e+17</td>\n",
       "      <td>24.811015</td>\n",
       "      <td>23.065250</td>\n",
       "      <td>21.854852</td>\n",
       "      <td>21.565875</td>\n",
       "      <td>21.309522</td>\n",
       "    </tr>\n",
       "    <tr>\n",
       "      <th>max</th>\n",
       "      <td>5.888489e+17</td>\n",
       "      <td>30.902530</td>\n",
       "      <td>31.013420</td>\n",
       "      <td>28.244940</td>\n",
       "      <td>30.196820</td>\n",
       "      <td>29.166450</td>\n",
       "    </tr>\n",
       "  </tbody>\n",
       "</table>\n",
       "</div>"
      ],
      "text/plain": [
       "              objID           u           g           r           i  \\\n",
       "count  8.060000e+02  806.000000  806.000000  806.000000  806.000000   \n",
       "mean   5.888489e+17   24.031620   22.657744   21.374749   21.235349   \n",
       "std    7.310573e+04    1.644967    1.148938    0.792336    1.538440   \n",
       "min    5.888489e+17   22.003390   18.725590   18.093660   17.555250   \n",
       "25%    5.888489e+17   22.677747   22.047535   20.947987   20.426390   \n",
       "50%    5.888489e+17   23.589945   22.510105   21.502660   21.038390   \n",
       "75%    5.888489e+17   24.811015   23.065250   21.854852   21.565875   \n",
       "max    5.888489e+17   30.902530   31.013420   28.244940   30.196820   \n",
       "\n",
       "                z  \n",
       "count  806.000000  \n",
       "mean    20.789042  \n",
       "std      1.555778  \n",
       "min     17.024490  \n",
       "25%     19.840058  \n",
       "50%     20.415240  \n",
       "75%     21.309522  \n",
       "max     29.166450  "
      ]
     },
     "execution_count": 18,
     "metadata": {},
     "output_type": "execute_result"
    }
   ],
   "source": [
    "df[df.u > 22].describe() # descrição dos dados cujo valor de *u* seja maior do que 22"
   ]
  },
  {
   "cell_type": "markdown",
   "metadata": {},
   "source": [
    "Algo muito útil é poder fatiar seus dados, separar apenas aquilo que interessa. Existem alguns modos de fatiar os dados (do inglês, **slice**), mas usaremos basicamente o comando .ix(). Para estudar os demais, consulte http://pandas.pydata.org/pandas-docs/stable/indexing.html"
   ]
  },
  {
   "cell_type": "code",
   "execution_count": 24,
   "metadata": {
    "collapsed": false
   },
   "outputs": [
    {
     "data": {
      "text/html": [
       "<div>\n",
       "<table border=\"1\" class=\"dataframe\">\n",
       "  <thead>\n",
       "    <tr style=\"text-align: right;\">\n",
       "      <th></th>\n",
       "      <th>u</th>\n",
       "      <th>g</th>\n",
       "      <th>r</th>\n",
       "      <th>i</th>\n",
       "      <th>z</th>\n",
       "    </tr>\n",
       "  </thead>\n",
       "  <tbody>\n",
       "    <tr>\n",
       "      <th>0</th>\n",
       "      <td>22.55218</td>\n",
       "      <td>21.08744</td>\n",
       "      <td>20.28041</td>\n",
       "      <td>20.04251</td>\n",
       "      <td>19.37127</td>\n",
       "    </tr>\n",
       "    <tr>\n",
       "      <th>1</th>\n",
       "      <td>22.67882</td>\n",
       "      <td>24.14491</td>\n",
       "      <td>21.37153</td>\n",
       "      <td>20.88683</td>\n",
       "      <td>21.16393</td>\n",
       "    </tr>\n",
       "    <tr>\n",
       "      <th>2</th>\n",
       "      <td>21.53908</td>\n",
       "      <td>22.09095</td>\n",
       "      <td>20.81463</td>\n",
       "      <td>19.83287</td>\n",
       "      <td>22.76383</td>\n",
       "    </tr>\n",
       "    <tr>\n",
       "      <th>3</th>\n",
       "      <td>22.57927</td>\n",
       "      <td>22.40949</td>\n",
       "      <td>21.69262</td>\n",
       "      <td>20.85991</td>\n",
       "      <td>19.54916</td>\n",
       "    </tr>\n",
       "    <tr>\n",
       "      <th>4</th>\n",
       "      <td>22.34326</td>\n",
       "      <td>22.47549</td>\n",
       "      <td>21.70187</td>\n",
       "      <td>21.27564</td>\n",
       "      <td>24.48958</td>\n",
       "    </tr>\n",
       "  </tbody>\n",
       "</table>\n",
       "</div>"
      ],
      "text/plain": [
       "          u         g         r         i         z\n",
       "0  22.55218  21.08744  20.28041  20.04251  19.37127\n",
       "1  22.67882  24.14491  21.37153  20.88683  21.16393\n",
       "2  21.53908  22.09095  20.81463  19.83287  22.76383\n",
       "3  22.57927  22.40949  21.69262  20.85991  19.54916\n",
       "4  22.34326  22.47549  21.70187  21.27564  24.48958"
      ]
     },
     "execution_count": 24,
     "metadata": {},
     "output_type": "execute_result"
    }
   ],
   "source": [
    "df1 = df.ix[:,1:] #selecionando todas as colunas a partir da coluna 1 (lembrando que a indexação do Python começa em 0)\n",
    "df1.head()"
   ]
  },
  {
   "cell_type": "code",
   "execution_count": 27,
   "metadata": {
    "collapsed": false
   },
   "outputs": [
    {
     "data": {
      "text/html": [
       "<div>\n",
       "<table border=\"1\" class=\"dataframe\">\n",
       "  <thead>\n",
       "    <tr style=\"text-align: right;\">\n",
       "      <th></th>\n",
       "      <th>u</th>\n",
       "      <th>r</th>\n",
       "      <th>z</th>\n",
       "    </tr>\n",
       "  </thead>\n",
       "  <tbody>\n",
       "    <tr>\n",
       "      <th>0</th>\n",
       "      <td>22.55218</td>\n",
       "      <td>20.28041</td>\n",
       "      <td>19.37127</td>\n",
       "    </tr>\n",
       "    <tr>\n",
       "      <th>1</th>\n",
       "      <td>22.67882</td>\n",
       "      <td>21.37153</td>\n",
       "      <td>21.16393</td>\n",
       "    </tr>\n",
       "    <tr>\n",
       "      <th>2</th>\n",
       "      <td>21.53908</td>\n",
       "      <td>20.81463</td>\n",
       "      <td>22.76383</td>\n",
       "    </tr>\n",
       "    <tr>\n",
       "      <th>3</th>\n",
       "      <td>22.57927</td>\n",
       "      <td>21.69262</td>\n",
       "      <td>19.54916</td>\n",
       "    </tr>\n",
       "    <tr>\n",
       "      <th>4</th>\n",
       "      <td>22.34326</td>\n",
       "      <td>21.70187</td>\n",
       "      <td>24.48958</td>\n",
       "    </tr>\n",
       "  </tbody>\n",
       "</table>\n",
       "</div>"
      ],
      "text/plain": [
       "          u         r         z\n",
       "0  22.55218  20.28041  19.37127\n",
       "1  22.67882  21.37153  21.16393\n",
       "2  21.53908  20.81463  22.76383\n",
       "3  22.57927  21.69262  19.54916\n",
       "4  22.34326  21.70187  24.48958"
      ]
     },
     "execution_count": 27,
     "metadata": {},
     "output_type": "execute_result"
    }
   ],
   "source": [
    "df2 = df.ix[:,(1,3,5)] #selecionando apenas as colunas 1, 3 e 5\n",
    "df2.head()"
   ]
  },
  {
   "cell_type": "code",
   "execution_count": 28,
   "metadata": {
    "collapsed": false
   },
   "outputs": [
    {
     "data": {
      "text/html": [
       "<div>\n",
       "<table border=\"1\" class=\"dataframe\">\n",
       "  <thead>\n",
       "    <tr style=\"text-align: right;\">\n",
       "      <th></th>\n",
       "      <th>u</th>\n",
       "      <th>r</th>\n",
       "      <th>z</th>\n",
       "    </tr>\n",
       "  </thead>\n",
       "  <tbody>\n",
       "    <tr>\n",
       "      <th>0</th>\n",
       "      <td>22.55218</td>\n",
       "      <td>20.28041</td>\n",
       "      <td>19.37127</td>\n",
       "    </tr>\n",
       "    <tr>\n",
       "      <th>1</th>\n",
       "      <td>22.67882</td>\n",
       "      <td>21.37153</td>\n",
       "      <td>21.16393</td>\n",
       "    </tr>\n",
       "    <tr>\n",
       "      <th>2</th>\n",
       "      <td>21.53908</td>\n",
       "      <td>20.81463</td>\n",
       "      <td>22.76383</td>\n",
       "    </tr>\n",
       "    <tr>\n",
       "      <th>3</th>\n",
       "      <td>22.57927</td>\n",
       "      <td>21.69262</td>\n",
       "      <td>19.54916</td>\n",
       "    </tr>\n",
       "    <tr>\n",
       "      <th>4</th>\n",
       "      <td>22.34326</td>\n",
       "      <td>21.70187</td>\n",
       "      <td>24.48958</td>\n",
       "    </tr>\n",
       "  </tbody>\n",
       "</table>\n",
       "</div>"
      ],
      "text/plain": [
       "          u         r         z\n",
       "0  22.55218  20.28041  19.37127\n",
       "1  22.67882  21.37153  21.16393\n",
       "2  21.53908  20.81463  22.76383\n",
       "3  22.57927  21.69262  19.54916\n",
       "4  22.34326  21.70187  24.48958"
      ]
     },
     "execution_count": 28,
     "metadata": {},
     "output_type": "execute_result"
    }
   ],
   "source": [
    "df3 = df.ix[:,('u','r','z')] #selecionando apenas as colunas 1, 3 e 5, mas utilizando o nome das colunas\n",
    "df3.head()"
   ]
  },
  {
   "cell_type": "code",
   "execution_count": 34,
   "metadata": {
    "collapsed": false
   },
   "outputs": [
    {
     "data": {
      "text/html": [
       "<div>\n",
       "<table border=\"1\" class=\"dataframe\">\n",
       "  <thead>\n",
       "    <tr style=\"text-align: right;\">\n",
       "      <th></th>\n",
       "      <th>objID</th>\n",
       "      <th>g</th>\n",
       "    </tr>\n",
       "  </thead>\n",
       "  <tbody>\n",
       "    <tr>\n",
       "      <th>0</th>\n",
       "      <td>588848900971299281</td>\n",
       "      <td>21.08744</td>\n",
       "    </tr>\n",
       "    <tr>\n",
       "      <th>1</th>\n",
       "      <td>588848900971299282</td>\n",
       "      <td>24.14491</td>\n",
       "    </tr>\n",
       "    <tr>\n",
       "      <th>2</th>\n",
       "      <td>588848900971299284</td>\n",
       "      <td>22.09095</td>\n",
       "    </tr>\n",
       "    <tr>\n",
       "      <th>3</th>\n",
       "      <td>588848900971299285</td>\n",
       "      <td>22.40949</td>\n",
       "    </tr>\n",
       "    <tr>\n",
       "      <th>4</th>\n",
       "      <td>588848900971299286</td>\n",
       "      <td>22.47549</td>\n",
       "    </tr>\n",
       "  </tbody>\n",
       "</table>\n",
       "</div>"
      ],
      "text/plain": [
       "                objID         g\n",
       "0  588848900971299281  21.08744\n",
       "1  588848900971299282  24.14491\n",
       "2  588848900971299284  22.09095\n",
       "3  588848900971299285  22.40949\n",
       "4  588848900971299286  22.47549"
      ]
     },
     "execution_count": 34,
     "metadata": {},
     "output_type": "execute_result"
    }
   ],
   "source": [
    "df4 = df.ix[:,(0,2)]\n",
    "df4.head()"
   ]
  },
  {
   "cell_type": "markdown",
   "metadata": {},
   "source": [
    "Ainda, podemos fazer o contrário, juntar dados num mesmo dataframe. Para ter toda a documentação de concatenação, fusão e junção de dados, consulte http://pandas.pydata.org/pandas-docs/stable/merging.html\n",
    "\n",
    "Se os dados não possuem nenhuma coluna em comum, podemos utilizar o comando **join()**"
   ]
  },
  {
   "cell_type": "code",
   "execution_count": 36,
   "metadata": {
    "collapsed": false
   },
   "outputs": [
    {
     "data": {
      "text/html": [
       "<div>\n",
       "<table border=\"1\" class=\"dataframe\">\n",
       "  <thead>\n",
       "    <tr style=\"text-align: right;\">\n",
       "      <th></th>\n",
       "      <th>objID</th>\n",
       "      <th>g</th>\n",
       "      <th>u</th>\n",
       "      <th>r</th>\n",
       "      <th>z</th>\n",
       "    </tr>\n",
       "  </thead>\n",
       "  <tbody>\n",
       "    <tr>\n",
       "      <th>0</th>\n",
       "      <td>588848900971299281</td>\n",
       "      <td>21.08744</td>\n",
       "      <td>22.55218</td>\n",
       "      <td>20.28041</td>\n",
       "      <td>19.37127</td>\n",
       "    </tr>\n",
       "    <tr>\n",
       "      <th>1</th>\n",
       "      <td>588848900971299282</td>\n",
       "      <td>24.14491</td>\n",
       "      <td>22.67882</td>\n",
       "      <td>21.37153</td>\n",
       "      <td>21.16393</td>\n",
       "    </tr>\n",
       "    <tr>\n",
       "      <th>2</th>\n",
       "      <td>588848900971299284</td>\n",
       "      <td>22.09095</td>\n",
       "      <td>21.53908</td>\n",
       "      <td>20.81463</td>\n",
       "      <td>22.76383</td>\n",
       "    </tr>\n",
       "    <tr>\n",
       "      <th>3</th>\n",
       "      <td>588848900971299285</td>\n",
       "      <td>22.40949</td>\n",
       "      <td>22.57927</td>\n",
       "      <td>21.69262</td>\n",
       "      <td>19.54916</td>\n",
       "    </tr>\n",
       "    <tr>\n",
       "      <th>4</th>\n",
       "      <td>588848900971299286</td>\n",
       "      <td>22.47549</td>\n",
       "      <td>22.34326</td>\n",
       "      <td>21.70187</td>\n",
       "      <td>24.48958</td>\n",
       "    </tr>\n",
       "  </tbody>\n",
       "</table>\n",
       "</div>"
      ],
      "text/plain": [
       "                objID         g         u         r         z\n",
       "0  588848900971299281  21.08744  22.55218  20.28041  19.37127\n",
       "1  588848900971299282  24.14491  22.67882  21.37153  21.16393\n",
       "2  588848900971299284  22.09095  21.53908  20.81463  22.76383\n",
       "3  588848900971299285  22.40949  22.57927  21.69262  19.54916\n",
       "4  588848900971299286  22.47549  22.34326  21.70187  24.48958"
      ]
     },
     "execution_count": 36,
     "metadata": {},
     "output_type": "execute_result"
    }
   ],
   "source": [
    "df5 = df4.join(df3)\n",
    "df5.head()"
   ]
  },
  {
   "cell_type": "markdown",
   "metadata": {},
   "source": [
    "Outra opção é utilizar o **concat()**"
   ]
  },
  {
   "cell_type": "code",
   "execution_count": 42,
   "metadata": {
    "collapsed": false
   },
   "outputs": [
    {
     "data": {
      "text/html": [
       "<div>\n",
       "<table border=\"1\" class=\"dataframe\">\n",
       "  <thead>\n",
       "    <tr style=\"text-align: right;\">\n",
       "      <th></th>\n",
       "      <th>objID</th>\n",
       "      <th>g</th>\n",
       "      <th>u</th>\n",
       "      <th>r</th>\n",
       "      <th>z</th>\n",
       "    </tr>\n",
       "  </thead>\n",
       "  <tbody>\n",
       "    <tr>\n",
       "      <th>0</th>\n",
       "      <td>588848900971299281</td>\n",
       "      <td>21.08744</td>\n",
       "      <td>22.55218</td>\n",
       "      <td>20.28041</td>\n",
       "      <td>19.37127</td>\n",
       "    </tr>\n",
       "    <tr>\n",
       "      <th>1</th>\n",
       "      <td>588848900971299282</td>\n",
       "      <td>24.14491</td>\n",
       "      <td>22.67882</td>\n",
       "      <td>21.37153</td>\n",
       "      <td>21.16393</td>\n",
       "    </tr>\n",
       "    <tr>\n",
       "      <th>2</th>\n",
       "      <td>588848900971299284</td>\n",
       "      <td>22.09095</td>\n",
       "      <td>21.53908</td>\n",
       "      <td>20.81463</td>\n",
       "      <td>22.76383</td>\n",
       "    </tr>\n",
       "    <tr>\n",
       "      <th>3</th>\n",
       "      <td>588848900971299285</td>\n",
       "      <td>22.40949</td>\n",
       "      <td>22.57927</td>\n",
       "      <td>21.69262</td>\n",
       "      <td>19.54916</td>\n",
       "    </tr>\n",
       "    <tr>\n",
       "      <th>4</th>\n",
       "      <td>588848900971299286</td>\n",
       "      <td>22.47549</td>\n",
       "      <td>22.34326</td>\n",
       "      <td>21.70187</td>\n",
       "      <td>24.48958</td>\n",
       "    </tr>\n",
       "  </tbody>\n",
       "</table>\n",
       "</div>"
      ],
      "text/plain": [
       "                objID         g         u         r         z\n",
       "0  588848900971299281  21.08744  22.55218  20.28041  19.37127\n",
       "1  588848900971299282  24.14491  22.67882  21.37153  21.16393\n",
       "2  588848900971299284  22.09095  21.53908  20.81463  22.76383\n",
       "3  588848900971299285  22.40949  22.57927  21.69262  19.54916\n",
       "4  588848900971299286  22.47549  22.34326  21.70187  24.48958"
      ]
     },
     "execution_count": 42,
     "metadata": {},
     "output_type": "execute_result"
    }
   ],
   "source": [
    "df6 = pd.concat([df4,df3],axis=1) #axis=1 diz q a concatenação vai acontecer entre as colunas e não entre as linhas\n",
    "df6.head()"
   ]
  },
  {
   "cell_type": "markdown",
   "metadata": {},
   "source": [
    "Quando os dataframes possuem ao menos uma coluna em comum, é possível utilizar o comando **merge()**"
   ]
  },
  {
   "cell_type": "code",
   "execution_count": 48,
   "metadata": {
    "collapsed": false
   },
   "outputs": [
    {
     "data": {
      "text/html": [
       "<div>\n",
       "<table border=\"1\" class=\"dataframe\">\n",
       "  <thead>\n",
       "    <tr style=\"text-align: right;\">\n",
       "      <th></th>\n",
       "      <th>u</th>\n",
       "      <th>g</th>\n",
       "      <th>r</th>\n",
       "      <th>i</th>\n",
       "      <th>z</th>\n",
       "      <th>objID</th>\n",
       "    </tr>\n",
       "  </thead>\n",
       "  <tbody>\n",
       "    <tr>\n",
       "      <th>0</th>\n",
       "      <td>22.55218</td>\n",
       "      <td>21.08744</td>\n",
       "      <td>20.28041</td>\n",
       "      <td>20.04251</td>\n",
       "      <td>19.37127</td>\n",
       "      <td>588848900971299281</td>\n",
       "    </tr>\n",
       "    <tr>\n",
       "      <th>1</th>\n",
       "      <td>22.67882</td>\n",
       "      <td>24.14491</td>\n",
       "      <td>21.37153</td>\n",
       "      <td>20.88683</td>\n",
       "      <td>21.16393</td>\n",
       "      <td>588848900971299282</td>\n",
       "    </tr>\n",
       "    <tr>\n",
       "      <th>2</th>\n",
       "      <td>21.53908</td>\n",
       "      <td>22.09095</td>\n",
       "      <td>20.81463</td>\n",
       "      <td>19.83287</td>\n",
       "      <td>22.76383</td>\n",
       "      <td>588848900971299284</td>\n",
       "    </tr>\n",
       "    <tr>\n",
       "      <th>3</th>\n",
       "      <td>22.57927</td>\n",
       "      <td>22.40949</td>\n",
       "      <td>21.69262</td>\n",
       "      <td>20.85991</td>\n",
       "      <td>19.54916</td>\n",
       "      <td>588848900971299285</td>\n",
       "    </tr>\n",
       "    <tr>\n",
       "      <th>4</th>\n",
       "      <td>22.34326</td>\n",
       "      <td>22.47549</td>\n",
       "      <td>21.70187</td>\n",
       "      <td>21.27564</td>\n",
       "      <td>24.48958</td>\n",
       "      <td>588848900971299286</td>\n",
       "    </tr>\n",
       "  </tbody>\n",
       "</table>\n",
       "</div>"
      ],
      "text/plain": [
       "          u         g         r         i         z               objID\n",
       "0  22.55218  21.08744  20.28041  20.04251  19.37127  588848900971299281\n",
       "1  22.67882  24.14491  21.37153  20.88683  21.16393  588848900971299282\n",
       "2  21.53908  22.09095  20.81463  19.83287  22.76383  588848900971299284\n",
       "3  22.57927  22.40949  21.69262  20.85991  19.54916  588848900971299285\n",
       "4  22.34326  22.47549  21.70187  21.27564  24.48958  588848900971299286"
      ]
     },
     "execution_count": 48,
     "metadata": {},
     "output_type": "execute_result"
    }
   ],
   "source": [
    "df7 = pd.merge(df1,df4) #perceba que a ordem altera o resultado\n",
    "df7.head()"
   ]
  },
  {
   "cell_type": "code",
   "execution_count": 47,
   "metadata": {
    "collapsed": false
   },
   "outputs": [
    {
     "data": {
      "text/html": [
       "<div>\n",
       "<table border=\"1\" class=\"dataframe\">\n",
       "  <thead>\n",
       "    <tr style=\"text-align: right;\">\n",
       "      <th></th>\n",
       "      <th>objID</th>\n",
       "      <th>g</th>\n",
       "      <th>u</th>\n",
       "      <th>r</th>\n",
       "      <th>i</th>\n",
       "      <th>z</th>\n",
       "    </tr>\n",
       "  </thead>\n",
       "  <tbody>\n",
       "    <tr>\n",
       "      <th>0</th>\n",
       "      <td>588848900971299281</td>\n",
       "      <td>21.08744</td>\n",
       "      <td>22.55218</td>\n",
       "      <td>20.28041</td>\n",
       "      <td>20.04251</td>\n",
       "      <td>19.37127</td>\n",
       "    </tr>\n",
       "    <tr>\n",
       "      <th>1</th>\n",
       "      <td>588848900971299282</td>\n",
       "      <td>24.14491</td>\n",
       "      <td>22.67882</td>\n",
       "      <td>21.37153</td>\n",
       "      <td>20.88683</td>\n",
       "      <td>21.16393</td>\n",
       "    </tr>\n",
       "    <tr>\n",
       "      <th>2</th>\n",
       "      <td>588848900971299284</td>\n",
       "      <td>22.09095</td>\n",
       "      <td>21.53908</td>\n",
       "      <td>20.81463</td>\n",
       "      <td>19.83287</td>\n",
       "      <td>22.76383</td>\n",
       "    </tr>\n",
       "    <tr>\n",
       "      <th>3</th>\n",
       "      <td>588848900971299285</td>\n",
       "      <td>22.40949</td>\n",
       "      <td>22.57927</td>\n",
       "      <td>21.69262</td>\n",
       "      <td>20.85991</td>\n",
       "      <td>19.54916</td>\n",
       "    </tr>\n",
       "    <tr>\n",
       "      <th>4</th>\n",
       "      <td>588848900971299286</td>\n",
       "      <td>22.47549</td>\n",
       "      <td>22.34326</td>\n",
       "      <td>21.70187</td>\n",
       "      <td>21.27564</td>\n",
       "      <td>24.48958</td>\n",
       "    </tr>\n",
       "  </tbody>\n",
       "</table>\n",
       "</div>"
      ],
      "text/plain": [
       "                objID         g         u         r         i         z\n",
       "0  588848900971299281  21.08744  22.55218  20.28041  20.04251  19.37127\n",
       "1  588848900971299282  24.14491  22.67882  21.37153  20.88683  21.16393\n",
       "2  588848900971299284  22.09095  21.53908  20.81463  19.83287  22.76383\n",
       "3  588848900971299285  22.40949  22.57927  21.69262  20.85991  19.54916\n",
       "4  588848900971299286  22.47549  22.34326  21.70187  21.27564  24.48958"
      ]
     },
     "execution_count": 47,
     "metadata": {},
     "output_type": "execute_result"
    }
   ],
   "source": [
    "df8 = pd.merge(df4,df1) #perceba que a ordem altera o resultado\n",
    "df8.head()"
   ]
  },
  {
   "cell_type": "markdown",
   "metadata": {},
   "source": [
    "O pacote ***pandas*** é muito útil também para fazer algumas análises.\n",
    "Podemos calcular as correlações entre os parâmetros, criar histrogramas, boxplots, diagramas de pizza..."
   ]
  },
  {
   "cell_type": "code",
   "execution_count": null,
   "metadata": {
    "collapsed": true
   },
   "outputs": [],
   "source": [
    "pd.scatter_matrix(df)"
   ]
  },
  {
   "cell_type": "code",
   "execution_count": 39,
   "metadata": {
    "collapsed": false
   },
   "outputs": [],
   "source": [
    "df['gr'] = df.g - df.r\n",
    "df['ri'] = df.r - df.i\n",
    "df['ur'] = df.u - df.r"
   ]
  },
  {
   "cell_type": "code",
   "execution_count": null,
   "metadata": {
    "collapsed": true
   },
   "outputs": [],
   "source": [
    "df.head()"
   ]
  },
  {
   "cell_type": "code",
   "execution_count": null,
   "metadata": {
    "collapsed": true
   },
   "outputs": [],
   "source": [
    "df.plot(kind='scatter', x='r', y='gr')"
   ]
  },
  {
   "cell_type": "code",
   "execution_count": 45,
   "metadata": {
    "collapsed": true
   },
   "outputs": [],
   "source": [
    "df_e = df.ix[df.ur > 2.22]\n",
    "df_s = df.ix[df.ur < 2.22]"
   ]
  },
  {
   "cell_type": "code",
   "execution_count": null,
   "metadata": {
    "collapsed": true
   },
   "outputs": [],
   "source": [
    "df_e.head()"
   ]
  },
  {
   "cell_type": "code",
   "execution_count": 47,
   "metadata": {
    "collapsed": false
   },
   "outputs": [
    {
     "data": {
      "text/plain": [
       "467"
      ]
     },
     "execution_count": 47,
     "metadata": {},
     "output_type": "execute_result"
    }
   ],
   "source": [
    "len(df_e)"
   ]
  },
  {
   "cell_type": "code",
   "execution_count": null,
   "metadata": {
    "collapsed": true
   },
   "outputs": [],
   "source": [
    "df_s.head()"
   ]
  },
  {
   "cell_type": "code",
   "execution_count": 49,
   "metadata": {
    "collapsed": false
   },
   "outputs": [
    {
     "data": {
      "text/plain": [
       "533"
      ]
     },
     "execution_count": 49,
     "metadata": {},
     "output_type": "execute_result"
    }
   ],
   "source": [
    "len(df_s)"
   ]
  },
  {
   "cell_type": "code",
   "execution_count": null,
   "metadata": {
    "collapsed": true
   },
   "outputs": [],
   "source": [
    "df_e.plot(kind='scatter', x='r', y='gr')"
   ]
  },
  {
   "cell_type": "code",
   "execution_count": null,
   "metadata": {
    "collapsed": true
   },
   "outputs": [],
   "source": [
    "df_s.plot(kind='scatter', x='r', y='gr')"
   ]
  },
  {
   "cell_type": "code",
   "execution_count": null,
   "metadata": {
    "collapsed": true
   },
   "outputs": [],
   "source": [
    "plt.ylabel('g-r')\n",
    "plt.plot(df_e.r, df_e.gr, 'r.', df_s.r, df_s.gr, 'b.')"
   ]
  },
  {
   "cell_type": "code",
   "execution_count": null,
   "metadata": {
    "collapsed": true
   },
   "outputs": [],
   "source": [
    "plt.scatter(df.r, df.gr)"
   ]
  },
  {
   "cell_type": "code",
   "execution_count": null,
   "metadata": {
    "collapsed": true
   },
   "outputs": [],
   "source": []
  }
 ],
 "metadata": {
  "anaconda-cloud": {},
  "kernelspec": {
   "display_name": "Python 2",
   "language": "python",
   "name": "python2"
  },
  "language_info": {
   "codemirror_mode": {
    "name": "ipython",
    "version": 2
   },
   "file_extension": ".py",
   "mimetype": "text/x-python",
   "name": "python",
   "nbconvert_exporter": "python",
   "pygments_lexer": "ipython2",
   "version": "2.7.12"
  }
 },
 "nbformat": 4,
 "nbformat_minor": 1
}
